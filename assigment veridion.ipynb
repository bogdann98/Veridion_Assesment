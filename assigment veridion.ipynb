{
  "cells": [
    {
      "cell_type": "code",
      "execution_count": null,
      "metadata": {
        "id": "-sw534gymdgL"
      },
      "outputs": [],
      "source": [
        "# prompt: import pyspark library\n",
        "\n",
        "!pip install pyspark\n"
      ]
    },
    {
      "cell_type": "code",
      "execution_count": null,
      "metadata": {
        "id": "S9jDTHpGv4Gv"
      },
      "outputs": [],
      "source": [
        "!pip install delta-spark"
      ]
    },
    {
      "cell_type": "markdown",
      "metadata": {
        "id": "Gg4YQW-14Bz9"
      },
      "source": [
        "**Import libraries**"
      ]
    },
    {
      "cell_type": "code",
      "execution_count": null,
      "metadata": {
        "id": "RqRDmn0XW2bJ"
      },
      "outputs": [],
      "source": [
        "import pyspark\n",
        "from pyspark.sql import SparkSession"
      ]
    },
    {
      "cell_type": "markdown",
      "source": [
        "**Mount google drive**"
      ],
      "metadata": {
        "id": "0nDYvosyFDuH"
      }
    },
    {
      "cell_type": "code",
      "execution_count": null,
      "metadata": {
        "id": "MRoPcBAGVRlQ"
      },
      "outputs": [],
      "source": [
        "import pyspark\n",
        "from pyspark.sql import SparkSession\n",
        "from google.colab import drive\n",
        "import os\n",
        "\n",
        "# Now mount the drive\n",
        "drive.mount('/content/drive/')\n",
        "\n",
        "# Specify the datasets_interview folder path\n",
        "datasets_interview_path = '/content/drive/MyDrive/datasets_interview'  # Replace with your actual path\n",
        "\n",
        "# Check if the directory exists\n",
        "if os.path.exists(datasets_interview_path):\n",
        "    # List files in the datasets_interview directory\n",
        "    for filename in os.listdir(datasets_interview_path):\n",
        "        print(filename)\n",
        "else:\n",
        "    print(f\"Error: Directory '{datasets_interview_path}' not found.\")"
      ]
    },
    {
      "cell_type": "markdown",
      "metadata": {
        "id": "PsC2DbEP4IeJ"
      },
      "source": [
        "**Load dataset**"
      ]
    },
    {
      "cell_type": "code",
      "execution_count": null,
      "metadata": {
        "id": "Z0PAtz0gV3eV"
      },
      "outputs": [],
      "source": [
        "spark = SparkSession.builder.getOrCreate()\n",
        "file_path_google=\"/content/drive/MyDrive/datasets_interview/google_dataset.csv\"\n",
        "df_google=spark.read.csv(file_path_google, header=True, inferSchema=True)"
      ]
    },
    {
      "cell_type": "code",
      "execution_count": null,
      "metadata": {
        "id": "sob_lAsBXCxK"
      },
      "outputs": [],
      "source": [
        "df_google.show(100)"
      ]
    },
    {
      "cell_type": "markdown",
      "metadata": {
        "id": "QXFhtqfx4OAH"
      },
      "source": [
        "**Show all acountires for google dataset**"
      ]
    },
    {
      "cell_type": "code",
      "execution_count": null,
      "metadata": {
        "id": "yzn-42Jrzg2c"
      },
      "outputs": [],
      "source": [
        "from pyspark.sql.functions import col\n",
        "\n",
        "# Assuming 'country' is the column name containing country information\n",
        "# Filter the DataFrame to include only rows where the 'country' column is not null\n",
        "filtered_df = df_google.filter(col(\"country_name\").isNotNull())\n",
        "\n",
        "# Iterate through the filtered DataFrame and extract all unique countries\n",
        "distinct_countries = set()\n",
        "for row in filtered_df.collect():\n",
        "    country = row[\"country_name\"]\n",
        "    distinct_countries.add(country)\n",
        "\n",
        "\n",
        "# Print the distinct countries\n",
        "for country in distinct_countries:\n",
        "  print(country)"
      ]
    },
    {
      "cell_type": "code",
      "execution_count": null,
      "metadata": {
        "id": "6QwCfjzN8JnM"
      },
      "outputs": [],
      "source": [
        "print(len(distinct_countries))"
      ]
    },
    {
      "cell_type": "markdown",
      "metadata": {
        "id": "sxX2U0ux4Ybq"
      },
      "source": [
        "**Clean dataset for country romania**"
      ]
    },
    {
      "cell_type": "code",
      "execution_count": null,
      "metadata": {
        "id": "-ZUhtRTdYGn3"
      },
      "outputs": [],
      "source": [
        "df_google.count()"
      ]
    },
    {
      "cell_type": "code",
      "execution_count": null,
      "metadata": {
        "id": "5t5J5RFLs7TE"
      },
      "outputs": [],
      "source": [
        "df_google.printSchema()"
      ]
    },
    {
      "cell_type": "code",
      "execution_count": null,
      "metadata": {
        "id": "bPXJTppy7hDA"
      },
      "outputs": [],
      "source": [
        "df_google_cleaned=df_google.fillna(\"0\")"
      ]
    },
    {
      "cell_type": "code",
      "execution_count": null,
      "metadata": {
        "id": "YuA37LDLyigq"
      },
      "outputs": [],
      "source": [
        "df_google_cleaned.createOrReplaceTempView(\"csv_table\")"
      ]
    },
    {
      "cell_type": "code",
      "execution_count": null,
      "metadata": {
        "id": "q3ZxHEATbQ08"
      },
      "outputs": [],
      "source": [
        "# Assuming df_google is your DataFrame\n",
        "df_google_deduplicated = df_google.dropDuplicates()\n",
        "\n",
        "# Show the deduplicated DataFrame\n",
        "df_google_deduplicated.count()"
      ]
    },
    {
      "cell_type": "code",
      "execution_count": null,
      "metadata": {
        "id": "oHL561F_aUZ1"
      },
      "outputs": [],
      "source": [
        "# prompt: fill null values with 0 from df_google_dedubliplicat\n",
        "\n",
        "df_google_removenulls = df_google_deduplicated.fillna(0)\n",
        "df_google_removenulls.show(1000)\n"
      ]
    },
    {
      "cell_type": "markdown",
      "source": [
        "**Clean data that countains invalid country codes**"
      ],
      "metadata": {
        "id": "E_hpfAq4F8WT"
      }
    },
    {
      "cell_type": "code",
      "execution_count": null,
      "metadata": {
        "id": "YudoqDsiBd2q"
      },
      "outputs": [],
      "source": [
        "from pyspark.sql.functions import when\n",
        "\n",
        "# Define a mapping dictionary for country codes\n",
        "country_code_mapping = {\n",
        "    \"ghana\": \"gh\", \"hungary\": \"hu\", \"finland\": \"fi\", \"st kitts and nevis\": \"kn\",\n",
        "    \"georgia\": \"ge\", \"guatemala\": \"gt\", \"latvia\": \"lv\", \"peru\": \"pe\", \"Åland\": \"ax\",\n",
        "    \"germany\": \"de\", \"french polynesia\": \"pf\", \"italy\": \"it\", \"zambia\": \"zm\",\n",
        "    \"liberia\": \"lr\", \"solomon islands\": \"sb\", \"samoa\": \"ws\", \"portugal\": \"pt\",\n",
        "    \"netherlands\": \"nl\", \"nicaragua\": \"ni\", \"bermuda\": \"bm\", \"maldives\": \"mv\",\n",
        "    \"u.s. virgin islands\": \"vi\", \"barbados\": \"bb\", \"brazil\": \"br\", \"mozambique\": \"mz\",\n",
        "    \"kyrgyzstan\": \"kg\", \"senegal\": \"sn\", \"kenya\": \"ke\", \"faroe islands\": \"fo\",\n",
        "    \"mauritania\": \"mr\", \"new caledonia\": \"nc\", \"united arab emirates\": \"ae\",\n",
        "    \"south africa\": \"za\", \"indonesia\": \"id\", \"puerto rico\": \"pr\", \"albania\": \"al\",\n",
        "    \"chile\": \"cl\", \"uruguay\": \"uy\", \"saint vincent and the grenadines\": \"vc\",\n",
        "    \"guinea\": \"gn\", \"montenegro\": \"me\", \"russia\": \"ru\", \"cameroon\": \"cm\", \"iran\": \"ir\",\n",
        "    \"slovenia\": \"si\", \"yemen\": \"ye\", \"cuba\": \"cu\", \"armenia\": \"am\", \"zimbabwe\": \"zw\",\n",
        "    \"malaysia\": \"my\", \"spain\": \"es\", \"bulgaria\": \"bg\", \"philippines\": \"ph\",\n",
        "    \"belarus\": \"by\", \"canada\": \"ca\", \"united kingdom\": \"gb\", \"sri lanka\": \"lk\",\n",
        "    \"lebanon\": \"lb\", \"iceland\": \"is\", \"el salvador\": \"sv\", \"belgium\": \"be\",\n",
        "    \"egypt\": \"eg\", \"iraq\": \"iq\", \"saudi arabia\": \"sa\", \"botswana\": \"bw\",\n",
        "    \"singapore\": \"sg\", \"benin\": \"bj\", \"bolivia\": \"bo\", \"bosnia and herzegovina\": \"ba\",\n",
        "    \"vietnam\": \"vn\", \"algeria\": \"dz\", \"burundi\": \"bi\", \"nigeria\": \"ng\",\n",
        "    \"afghanistan\": \"af\", \"south korea\": \"kr\", \"angola\": \"ao\", \"mexico\": \"mx\",\n",
        "    \"liechtenstein\": \"li\", \"austria\": \"at\", \"qatar\": \"qa\", \"bahrain\": \"bh\",\n",
        "    \"israel\": \"il\", \"gabon\": \"ga\", \"uganda\": \"ug\", \"andorra\": \"ad\", \"hong kong\": \"hk\",\n",
        "    \"bahamas\": \"bs\", \"thailand\": \"th\", \"greenland\": \"gl\", \"seychelles\": \"sc\",\n",
        "    \"bangladesh\": \"bd\", \"aruba\": \"aw\", \"fiji\": \"fj\", \"myanmar\": \"mm\", \"venezuela\": \"ve\",\n",
        "    \"bhutan\": \"bt\", \"haiti\": \"ht\", \"togo\": \"tg\", \"estonia\": \"ee\",\n",
        "    \"hashemite kingdom of jordan\": \"jo\", \"australia\": \"au\", \"lesotho\": \"ls\",\n",
        "    \"mali\": \"ml\", \"japan\": \"jp\", \"denmark\": \"dk\", \"new zealand\": \"nz\",\n",
        "    \"luxembourg\": \"lu\", \"papua new guinea\": \"pg\", \"suriname\": \"sr\",\n",
        "    \"dominican republic\": \"do\", \"niger\": \"ne\", \"tajikistan\": \"tj\", \"paraguay\": \"py\",\n",
        "    \"burkina faso\": \"bf\", \"laos\": \"la\", \"ireland\": \"ie\", \"saint lucia\": \"lc\",\n",
        "    \"jamaica\": \"jm\", \"republic of lithuania\": \"lt\", \"north macedonia\": \"mk\",\n",
        "    \"croatia\": \"hr\", \"ukraine\": \"ua\", \"guinea-bissau\": \"gw\", \"costa rica\": \"cr\",\n",
        "    \"argentina\": \"ar\", \"brunei\": \"bn\", \"ecuador\": \"ec\", \"libya\": \"ly\", \"morocco\": \"ma\",\n",
        "    \"sierra leone\": \"sl\", \"central african republic\": \"cf\", \"colombia\": \"co\",\n",
        "    \"honduras\": \"hn\", \"kazakhstan\": \"kz\", \"american samoa\": \"as\", \"panama\": \"pa\",\n",
        "    \"south sudan\": \"ss\", \"cambodia\": \"kh\", \"serbia\": \"rs\", \"french guiana\": \"gf\",\n",
        "    \"romania\": \"ro\", \"nepal\": \"np\", \"turkey\": \"tr\", \"poland\": \"pl\", \"mauritius\": \"mu\",\n",
        "    \"guam\": \"gu\", \"czechia\": \"cz\", \"india\": \"in\", \"slovakia\": \"sk\", \"namibia\": \"na\",\n",
        "    \"belize\": \"bz\", \"tonga\": \"to\", \"rwanda\": \"rw\", \"gambia\": \"gm\", \"curaçao\": \"cw\",\n",
        "    \"azerbaijan\": \"az\", \"france\": \"fr\", \"madagascar\": \"mg\", \"taiwan\": \"tw\",\n",
        "    \"malta\": \"mt\", \"sweden\": \"se\", \"trinidad and tobago\": \"tt\", \"united states\": \"us\",\n",
        "    \"uzbekistan\": \"uz\", \"reunion\": \"re\", \"switzerland\": \"ch\", \"guadeloupe\": \"gp\",\n",
        "    \"martinique\": \"mq\", \"sudan\": \"sd\", \"pakistan\": \"pk\", \"republic of moldova\": \"md\",\n",
        "    \"kuwait\": \"kw\", \"comoros\": \"km\", \"malawi\": \"mw\", \"greece\": \"gr\", \"china\": \"cn\",\n",
        "    \"dominica\": \"dm\", \"guyana\": \"gy\", \"isle of man\": \"im\", \"oman\": \"om\",\n",
        "    \"sint maarten\": \"sx\", \"norway\": \"no\", \"somalia\": \"so\", \"jersey\": \"je\",\n",
        "    \"vanuatu\": \"vu\", \"ethiopia\": \"et\", \"tunisia\": \"tn\"\n",
        "}"
      ]
    },
    {
      "cell_type": "code",
      "execution_count": null,
      "metadata": {
        "id": "drtVvUY0BoGZ"
      },
      "outputs": [],
      "source": [
        "from pyspark.sql.functions import when, regexp_replace, col, lit\n",
        "def add_country_code(df, country_code_mapping):\n",
        "    country_code_expr = None\n",
        "    for country, code in country_code_mapping.items():\n",
        "        if country_code_expr is None:\n",
        "            country_code_expr = when(col(\"country_name\") == country, lit(code))\n",
        "        else:\n",
        "            country_code_expr = country_code_expr.when(col(\"country_name\") == country, lit(code))\n",
        "\n",
        "    # Add the new column\n",
        "    return df.withColumn(\"country_code\", country_code_expr)"
      ]
    },
    {
      "cell_type": "code",
      "source": [
        "# Update the DataFrame with the new country_code column\n",
        "df_google = add_country_code(df_google, country_code_mapping)\n",
        "\n",
        "# Show updated DataFrame\n",
        "df_google.show(1000)"
      ],
      "metadata": {
        "id": "upm4qJjgHltP"
      },
      "execution_count": null,
      "outputs": []
    },
    {
      "cell_type": "code",
      "execution_count": null,
      "metadata": {
        "id": "ccHubm6EDM3y"
      },
      "outputs": [],
      "source": [
        "# Select distinct country_name and country_code pairs\n",
        "distinct_countries = df_google.select(\"country_name\", \"country_code\").distinct()\n",
        "n=distinct_countries.count()\n",
        "# Show the distinct pairs of country names and country codes\n",
        "distinct_countries.show(n,truncate=False)"
      ]
    },
    {
      "cell_type": "code",
      "execution_count": null,
      "metadata": {
        "id": "OOdweDOMM7jm"
      },
      "outputs": [],
      "source": [
        "print(n)"
      ]
    },
    {
      "cell_type": "code",
      "execution_count": null,
      "metadata": {
        "id": "z7tNkWzgFHub"
      },
      "outputs": [],
      "source": [
        "df_google.count()"
      ]
    },
    {
      "cell_type": "markdown",
      "metadata": {
        "id": "OCiR7aFaFst1"
      },
      "source": [
        "**Delete all rows that contain null addresses**"
      ]
    },
    {
      "cell_type": "code",
      "execution_count": null,
      "metadata": {
        "id": "-GW0MvsyE1bL"
      },
      "outputs": [],
      "source": [
        "from pyspark.sql.functions import col\n",
        "\n",
        "# Filter out rows where the 'address' column is null\n",
        "df_google_Filter_out = df_google.filter(col(\"address\").isNotNull())\n",
        "\n",
        "# Show the cleaned DataFrame\n",
        "df_google_Filter_out.count()"
      ]
    },
    {
      "cell_type": "code",
      "execution_count": null,
      "metadata": {
        "id": "cT2bcdSjFFVA"
      },
      "outputs": [],
      "source": [
        "df_google_Filter_out.show()"
      ]
    },
    {
      "cell_type": "markdown",
      "source": [
        "**Clean data that contain invalid prefix phone country**"
      ],
      "metadata": {
        "id": "Un6AyzJvHvuT"
      }
    },
    {
      "cell_type": "code",
      "execution_count": null,
      "metadata": {
        "id": "r4zxRWj7G6eK"
      },
      "outputs": [],
      "source": [
        "# Dictionary mapping country names to their international dialing prefixes\n",
        "prefix_mapping = {\n",
        "    \"brunei\": \"673\",\n",
        "    \"india\": \"91\",\n",
        "    \"sweden\": \"46\",\n",
        "    \"vanuatu\": \"678\",\n",
        "    \"nepal\": \"977\",\n",
        "    \"bangladesh\": \"880\",\n",
        "    \"gabon\": \"241\",\n",
        "    \"kazakhstan\": \"7\",\n",
        "    \"israel\": \"972\",\n",
        "    \"romania\": \"40\",\n",
        "    \"somalia\": \"252\",\n",
        "    \"united states\": \"1\",\n",
        "    \"el salvador\": \"503\",\n",
        "    \"saint lucia\": \"1758\",\n",
        "    \"austria\": \"43\",\n",
        "    \"niger\": \"227\",\n",
        "    \"russia\": \"7\",\n",
        "    \"hong kong\": \"852\",\n",
        "    \"suriname\": \"597\",\n",
        "    \"bulgaria\": \"359\",\n",
        "    \"qatar\": \"974\",\n",
        "    \"panama\": \"507\",\n",
        "    \"latvia\": \"371\",\n",
        "    \"mauritius\": \"230\",\n",
        "    \"guam\": \"1671\",\n",
        "    \"venezuela\": \"58\",\n",
        "    \"japan\": \"81\",\n",
        "    \"serbia\": \"381\",\n",
        "    \"greece\": \"30\",\n",
        "    \"italy\": \"39\",\n",
        "    \"denmark\": \"45\",\n",
        "    \"comoros\": \"269\",\n",
        "    \"netherlands\": \"31\",\n",
        "    \"china\": \"86\",\n",
        "    \"papua new guinea\": \"675\",\n",
        "    \"bahrain\": \"973\",\n",
        "    \"ireland\": \"353\",\n",
        "    \"tonga\": \"676\",\n",
        "    \"zambia\": \"260\",\n",
        "    \"fiji\": \"679\",\n",
        "    \"dominica\": \"1767\",\n",
        "    \"faroe islands\": \"298\",\n",
        "    \"czechia\": \"420\",\n",
        "    \"liberia\": \"231\",\n",
        "    \"switzerland\": \"41\",\n",
        "    \"guinea\": \"224\",\n",
        "    \"republic of lithuania\": \"370\",\n",
        "    \"egypt\": \"20\",\n",
        "    \"senegal\": \"221\",\n",
        "    \"ukraine\": \"380\",\n",
        "    \"armenia\": \"374\",\n",
        "    \"philippines\": \"63\",\n",
        "    \"zimbabwe\": \"263\",\n",
        "    \"benin\": \"229\",\n",
        "    \"aruba\": \"297\",\n",
        "    \"sudan\": \"249\",\n",
        "    \"haiti\": \"509\",\n",
        "    \"bahamas\": \"1242\",\n",
        "    \"republic of moldova\": \"373\",\n",
        "    \"saudi arabia\": \"966\",\n",
        "    \"chile\": \"56\",\n",
        "    \"iceland\": \"354\",\n",
        "    \"kyrgyzstan\": \"996\",\n",
        "    \"guyana\": \"592\",\n",
        "    \"south africa\": \"27\",\n",
        "    \"trinidad and tobago\": \"1868\",\n",
        "    \"mexico\": \"52\",\n",
        "    \"united kingdom\": \"44\",\n",
        "    \"uzbekistan\": \"998\",\n",
        "    \"sierra leone\": \"232\",\n",
        "    \"cuba\": \"53\",\n",
        "    \"tunisia\": \"216\",\n",
        "    \"slovakia\": \"421\",\n",
        "    \"georgia\": \"995\",\n",
        "    \"yemen\": \"967\",\n",
        "    \"dominican republic\": \"1809\",\n",
        "    \"cambodia\": \"855\",\n",
        "    \"argentina\": \"54\",\n",
        "    \"ghana\": \"233\",\n",
        "    \"slovenia\": \"386\",\n",
        "    \"indonesia\": \"62\",\n",
        "    \"myanmar\": \"95\",\n",
        "    \"peru\": \"51\",\n",
        "    \"belgium\": \"32\",\n",
        "    \"tajikistan\": \"992\",\n",
        "    \"gambia\": \"220\",\n",
        "    \"belarus\": \"375\",\n",
        "    \"liechtenstein\": \"423\",\n",
        "    \"estonia\": \"372\",\n",
        "    \"iraq\": \"964\",\n",
        "    \"uruguay\": \"598\",\n",
        "    \"libya\": \"218\",\n",
        "    \"mauritania\": \"222\",\n",
        "    \"singapore\": \"65\",\n",
        "    \"colombia\": \"57\",\n",
        "    \"luxembourg\": \"352\",\n",
        "    \"paraguay\": \"595\",\n",
        "    \"barbados\": \"1246\",\n",
        "    \"poland\": \"48\",\n",
        "    \"spain\": \"34\",\n",
        "    \"burkina faso\": \"226\",\n",
        "    \"mali\": \"223\",\n",
        "    \"portugal\": \"351\",\n",
        "    \"algeria\": \"213\",\n",
        "    \"curaçao\": \"599\",\n",
        "    \"north macedonia\": \"389\",\n",
        "    \"samoa\": \"685\",\n",
        "    \"sint maarten\": \"1721\",\n",
        "    \"thailand\": \"66\",\n",
        "    \"nigeria\": \"234\",\n",
        "    \"martinique\": \"596\",\n",
        "    \"costa rica\": \"506\",\n",
        "    \"namibia\": \"264\",\n",
        "    \"french polynesia\": \"689\",\n",
        "    \"germany\": \"49\",\n",
        "    \"croatia\": \"385\",\n",
        "    \"oman\": \"968\",\n",
        "    \"hungary\": \"36\",\n",
        "    \"united arab emirates\": \"971\",\n",
        "    \"kuwait\": \"965\",\n",
        "    \"canada\": \"1\",\n",
        "    \"uganda\": \"256\",\n",
        "    \"brazil\": \"55\",\n",
        "    \"albania\": \"355\",\n",
        "    \"taiwan\": \"886\",\n",
        "    \"mozambique\": \"258\",\n",
        "    \"seychelles\": \"248\",\n",
        "    \"puerto rico\": \"1787\",\n",
        "    \"malta\": \"356\",\n",
        "    \"u.s. virgin islands\": \"1340\",\n",
        "    \"bosnia and herzegovina\": \"387\",\n",
        "    \"south korea\": \"82\",\n",
        "    \"rwanda\": \"250\",\n",
        "    \"central african republic\": \"236\",\n",
        "    \"andorra\": \"376\",\n",
        "    \"sri lanka\": \"94\",\n",
        "    \"ecuador\": \"593\",\n",
        "    \"morocco\": \"212\",\n",
        "    \"guadeloupe\": \"590\",\n",
        "    \"afghanistan\": \"93\",\n",
        "    \"azerbaijan\": \"994\",\n",
        "    \"guatemala\": \"502\",\n",
        "    \"botswana\": \"267\",\n",
        "    \"togo\": \"228\",\n",
        "    \"malaysia\": \"60\",\n",
        "    \"solomon islands\": \"677\",\n",
        "    \"norway\": \"47\",\n",
        "    \"burundi\": \"257\",\n",
        "    \"montenegro\": \"382\",\n",
        "    \"cameroon\": \"237\",\n",
        "    \"bolivia\": \"591\",\n",
        "    \"angola\": \"244\",\n",
        "    \"malawi\": \"265\",\n",
        "    \"honduras\": \"504\",\n",
        "    \"belize\": \"501\",\n",
        "    \"new zealand\": \"64\",\n",
        "    \"pakistan\": \"92\",\n",
        "    \"vietnam\": \"84\",\n",
        "    \"bhutan\": \"975\",\n",
        "    \"australia\": \"61\",\n",
        "    \"jamaica\": \"1876\",\n",
        "    \"turkey\": \"90\",\n",
        "    \"åland\": \"358\",\n",
        "    \"nicaragua\": \"505\",\n",
        "    \"finland\": \"358\",\n",
        "    \"ethiopia\": \"251\",\n",
        "    \"madagascar\": \"261\",\n",
        "    \"laos\": \"856\",\n",
        "    \"lebanon\": \"961\",\n",
        "    \"maldives\": \"960\",\n",
        "    \"france\": \"33\",\n",
        "    \"saint vincent and the grenadines\": \"1784\",\n",
        "    \"french guiana\": \"594\",\n",
        "    \"reunion\": \"262\",\n",
        "    \"lesotho\": \"266\",\n",
        "    \"american samoa\": \"1684\",\n",
        "    \"kenya\": \"254\",\n",
        "    \"south sudan\": \"211\",\n",
        "    \"guinea-bissau\": \"245\",\n",
        "    \"isle of man\": \"44\",\n",
        "    \"greenland\": \"299\",\n",
        "    \"new caledonia\": \"687\",\n",
        "    \"jersey\": \"44\",\n",
        "    \"hashemite kingdom of jordan\": \"962\",\n",
        "    \"bermuda\": \"1441\",\n",
        "    \"iran\": \"98\",\n",
        "    \"st kitts and nevis\": \"1869\"\n",
        "}"
      ]
    },
    {
      "cell_type": "code",
      "execution_count": null,
      "metadata": {
        "id": "L4o1mGVYHWJB"
      },
      "outputs": [],
      "source": [
        "from pyspark.sql.functions import lower, col, regexp_replace\n",
        "\n",
        "def filter_by_prefix(df, prefix_mapping):\n",
        "    \"\"\"\n",
        "    Filters the given DataFrame based on phone number prefixes mapped to country names.\n",
        "\n",
        "    Parameters:\n",
        "    df (DataFrame): The input DataFrame containing 'country_name' and 'phone' columns.\n",
        "    prefix_mapping (dict): Dictionary mapping country names to phone number prefixes.\n",
        "\n",
        "    Returns:\n",
        "    DataFrame: A filtered DataFrame containing rows that match the prefix conditions.\n",
        "    \"\"\"\n",
        "    # Build a filter condition by iterating through the prefix mapping.\n",
        "    conditions = None\n",
        "    for country, prefix in prefix_mapping.items():\n",
        "        # Remove +, ( and ) from the phone column before checking the prefix.\n",
        "        cleaned_phone = regexp_replace(col(\"phone\"), r\"[+()]\", \"\")\n",
        "        cond = (lower(col(\"country_name\")) == country) & cleaned_phone.startswith(prefix)\n",
        "        conditions = cond if conditions is None else conditions | cond\n",
        "\n",
        "    # Apply the combined condition to filter the DataFrame\n",
        "    return df.filter(conditions)"
      ]
    },
    {
      "cell_type": "code",
      "source": [
        "df_filtered_prefix = filter_by_prefix(df_google_Filter_out, prefix_mapping)"
      ],
      "metadata": {
        "id": "D6oL-5mnIYun"
      },
      "execution_count": null,
      "outputs": []
    },
    {
      "cell_type": "code",
      "execution_count": null,
      "metadata": {
        "id": "3eJKfmgiIAhd"
      },
      "outputs": [],
      "source": [
        "df_filtered_prefix.count()"
      ]
    },
    {
      "cell_type": "code",
      "source": [
        "df_filtered_prefix.show(100, truncate=False)"
      ],
      "metadata": {
        "id": "gBdZneUCIhlh"
      },
      "execution_count": null,
      "outputs": []
    },
    {
      "cell_type": "markdown",
      "source": [
        "**Clean data with invalid ZIP code**"
      ],
      "metadata": {
        "id": "AOmiJMipI1t9"
      }
    },
    {
      "cell_type": "code",
      "execution_count": null,
      "metadata": {
        "id": "ROJj9_n6KgkW"
      },
      "outputs": [],
      "source": [
        "# Dictionary mapping country names (lowercase) to expected ZIP code regex patterns.\n",
        "zip_code_patterns = {\n",
        "    \"brunei\": r\"^\\d{5}$\",                         # Example pattern; adjust as needed.\n",
        "    \"india\": r\"^\\d{6}$\",\n",
        "    \"sweden\": r\"^\\d{3}\\s?\\d{2}$\",                  # Swedish postal codes: e.g., \"123 45\"\n",
        "    \"vanuatu\": r\"^\\d{4}$\",\n",
        "    \"nepal\": r\"^\\d{5}$\",\n",
        "    \"bangladesh\": r\"^\\d{4}$\",                      # Adjust if needed.\n",
        "    \"gabon\": r\"^\\d{3}$\",\n",
        "    \"kazakhstan\": r\"^\\d{6}$\",\n",
        "    \"israel\": r\"^\\d{5,7}$\",                        # Varies; adjust as needed.\n",
        "    \"romania\": r\"^\\d{6}$\",\n",
        "    \"somalia\": r\"^\\d{5}$\",\n",
        "    \"united states\": r\"^\\d{5}(-\\d{4})?$\",          # 5-digit or ZIP+4.\n",
        "    \"el salvador\": r\"^\\d{4}$\",\n",
        "    \"saint lucia\": r\"^\\d{5}$\",\n",
        "    \"austria\": r\"^\\d{4}$\",\n",
        "    \"niger\": r\"^\\d{5}$\",\n",
        "    \"russia\": r\"^\\d{6}$\",\n",
        "    \"hong kong\": r\"^\\d{5}$\",                       # Hong Kong rarely uses postal codes.\n",
        "    \"suriname\": r\"^\\d{5}$\",\n",
        "    \"bulgaria\": r\"^\\d{4}$\",\n",
        "    \"qatar\": r\"^\\d{4}$\",\n",
        "    \"panama\": r\"^\\d{4}$\",\n",
        "    \"latvia\": r\"^\\d{4}$\",\n",
        "    \"mauritius\": r\"^\\d{3}$\",\n",
        "    \"guam\": r\"^\\d{5}$\",                           # Same as US.\n",
        "    \"venezuela\": r\"^\\d{4}$\",\n",
        "    \"japan\": r\"^\\d{3}-\\d{4}$\",\n",
        "    \"serbia\": r\"^\\d{5}$\",\n",
        "    \"greece\": r\"^\\d{5}$\",\n",
        "    \"italy\": r\"^\\d{5}$\",\n",
        "    \"denmark\": r\"^\\d{4}$\",\n",
        "    \"comoros\": r\"^\\d{3}$\",\n",
        "    \"netherlands\": r\"^\\d{4}\\s?[A-Z]{2}$\",         # e.g., \"1234 AB\"\n",
        "    \"china\": r\"^\\d{6}$\",\n",
        "    \"papua new guinea\": r\"^\\d{4}$\",\n",
        "    \"bahrain\": r\"^\\d{3}$\",\n",
        "    \"ireland\": r\"^[A-Z0-9]{3,4}\\s?[A-Z0-9]{3}$\",   # Irish Eircode (rough approximation)\n",
        "    \"tonga\": r\"^\\d{3}$\",\n",
        "    \"zambia\": r\"^\\d{5}$\",\n",
        "    \"fiji\": r\"^\\d{3}$\",\n",
        "    \"dominica\": r\"^\\d{5}$\",\n",
        "    \"faroe islands\": r\"^\\d{3}$\",\n",
        "    \"czechia\": r\"^\\d{3}\\s?\\d{2}$\",\n",
        "    \"liberia\": r\"^\\d{5}$\",\n",
        "    \"switzerland\": r\"^\\d{4}$\",\n",
        "    \"guinea\": r\"^\\d{5}$\",\n",
        "    \"republic of lithuania\": r\"^\\d{5}$\",\n",
        "    \"egypt\": r\"^\\d{5}$\",\n",
        "    \"senegal\": r\"^\\d{5}$\",\n",
        "    \"ukraine\": r\"^\\d{5}$\",\n",
        "    \"armenia\": r\"^\\d{4}$\",\n",
        "    \"philippines\": r\"^\\d{4}$\",\n",
        "    \"zimbabwe\": r\"^\\d{4}$\",\n",
        "    \"benin\": r\"^\\d{4}$\",\n",
        "    \"aruba\": r\"^\\d{4}$\",\n",
        "    \"sudan\": r\"^\\d{5}$\",\n",
        "    \"haiti\": r\"^\\d{4}$\",\n",
        "    \"bahamas\": r\"^\\d{4}$\",\n",
        "    \"republic of moldova\": r\"^\\d{4}$\",\n",
        "    \"saudi arabia\": r\"^\\d{5}$\",\n",
        "    \"chile\": r\"^\\d{7}$\",                         # Chilean postal codes are 7 digits.\n",
        "    \"iceland\": r\"^\\d{3}$\",\n",
        "    \"kyrgyzstan\": r\"^\\d{6}$\",\n",
        "    \"guyana\": r\"^\\d{6}$\",\n",
        "    \"south africa\": r\"^\\d{4}$\",\n",
        "    \"trinidad and tobago\": r\"^\\d{4}$\",\n",
        "    \"mexico\": r\"^\\d{5}$\",\n",
        "    \"united kingdom\": r\"^[A-Z]{1,2}\\d[A-Z\\d]?\\s*\\d[A-Z]{2}$\",\n",
        "    \"uzbekistan\": r\"^\\d{6}$\",\n",
        "    \"sierra leone\": r\"^\\d{5}$\",\n",
        "    \"cuba\": r\"^\\d{5}$\",\n",
        "    \"tunisia\": r\"^\\d{4}$\",\n",
        "    \"slovakia\": r\"^\\d{3}\\s?\\d{2}$\",\n",
        "    \"georgia\": r\"^\\d{5}$\",\n",
        "    \"yemen\": r\"^\\d{5}$\",\n",
        "    \"dominican republic\": r\"^\\d{5}$\",\n",
        "    \"cambodia\": r\"^\\d{5}$\",\n",
        "    \"argentina\": r\"^\\d{4}$\",\n",
        "    \"ghana\": r\"^\\d{5}$\",\n",
        "    \"slovenia\": r\"^\\d{4}$\",\n",
        "    \"indonesia\": r\"^\\d{5}$\",\n",
        "    \"myanmar\": r\"^\\d{5}$\",\n",
        "    \"peru\": r\"^\\d{5}$\",\n",
        "    \"belgium\": r\"^\\d{4}$\",\n",
        "    \"tajikistan\": r\"^\\d{6}$\",\n",
        "    \"gambia\": r\"^\\d{5}$\",\n",
        "    \"belarus\": r\"^\\d{6}$\",\n",
        "    \"liechtenstein\": r\"^\\d{4}$\",\n",
        "    \"estonia\": r\"^\\d{5}$\",\n",
        "    \"iraq\": r\"^\\d{5}$\",\n",
        "    \"uruguay\": r\"^\\d{5}$\",\n",
        "    \"libya\": r\"^\\d{5}$\",\n",
        "    \"mauritania\": r\"^\\d{5}$\",\n",
        "    \"singapore\": r\"^\\d{6}$\",\n",
        "    \"colombia\": r\"^\\d{6}$\",\n",
        "    \"luxembourg\": r\"^\\d{4}$\",\n",
        "    \"paraguay\": r\"^\\d{4}$\",\n",
        "    \"barbados\": r\"^\\d{5}$\",\n",
        "    \"poland\": r\"^\\d{2}-\\d{3}$\",                  # Polish postal code: e.g., \"00-001\"\n",
        "    \"spain\": r\"^\\d{5}$\",\n",
        "    \"burkina faso\": r\"^\\d{5}$\",\n",
        "    \"mali\": r\"^\\d{5}$\",\n",
        "    \"portugal\": r\"^\\d{4}-\\d{3}$\",                # e.g., \"1000-001\"\n",
        "    \"algeria\": r\"^\\d{5}$\",\n",
        "    \"curaçao\": r\"^\\d{4}$\",\n",
        "    \"north macedonia\": r\"^\\d{4}$\",\n",
        "    \"samoa\": r\"^\\d{3}$\",\n",
        "    \"sint maarten\": r\"^\\d{4}$\",\n",
        "    \"thailand\": r\"^\\d{5}$\",\n",
        "    \"nigeria\": r\"^\\d{6}$\",\n",
        "    \"martinique\": r\"^\\d{5}$\",\n",
        "    \"costa rica\": r\"^\\d{5}$\",\n",
        "    \"namibia\": r\"^\\d{5}$\",\n",
        "    \"french polynesia\": r\"^\\d{3}$\",\n",
        "    \"germany\": r\"^\\d{5}$\",\n",
        "    \"croatia\": r\"^\\d{5}$\",\n",
        "    \"oman\": r\"^\\d{5}$\",\n",
        "    \"hungary\": r\"^\\d{4}$\",\n",
        "    \"united arab emirates\": r\"^\\d{5}$\",\n",
        "    \"kuwait\": r\"^\\d{5}$\",\n",
        "    \"canada\": r\"^[A-Z]\\d[A-Z] \\d[A-Z]\\d$\",\n",
        "    \"uganda\": r\"^\\d{5}$\",\n",
        "    \"brazil\": r\"^\\d{5}-\\d{3}$\",\n",
        "    \"albania\": r\"^\\d{4}$\",\n",
        "    \"taiwan\": r\"^\\d{3,5}$\",\n",
        "    \"mozambique\": r\"^\\d{5}$\",\n",
        "    \"seychelles\": r\"^\\d{3}$\",\n",
        "    \"puerto rico\": r\"^\\d{5}$\",\n",
        "    \"malta\": r\"^\\d{3,4}$\",\n",
        "    \"u.s. virgin islands\": r\"^\\d{5}$\",\n",
        "    \"bosnia and herzegovina\": r\"^\\d{5}$\",\n",
        "    \"south korea\": r\"^\\d{5}$\",\n",
        "    \"rwanda\": r\"^\\d{5}$\",\n",
        "    \"central african republic\": r\"^\\d{5}$\",\n",
        "    \"andorra\": r\"^\\d{3}$\",\n",
        "    \"sri lanka\": r\"^\\d{5}$\",\n",
        "    \"ecuador\": r\"^\\d{5}$\",\n",
        "    \"morocco\": r\"^\\d{5}$\",\n",
        "    \"guadeloupe\": r\"^\\d{5}$\",\n",
        "    \"afghanistan\": r\"^\\d{4}$\",\n",
        "    \"azerbaijan\": r\"^\\d{5}$\",\n",
        "    \"guatemala\": r\"^\\d{5}$\",\n",
        "    \"botswana\": r\"^\\d{5}$\",\n",
        "    \"togo\": r\"^\\d{5}$\",\n",
        "    \"malaysia\": r\"^\\d{5}$\",\n",
        "    \"solomon islands\": r\"^\\d{3}$\",\n",
        "    \"norway\": r\"^\\d{4}$\",\n",
        "    \"burundi\": r\"^\\d{5}$\",\n",
        "    \"montenegro\": r\"^\\d{5}$\",\n",
        "    \"cameroon\": r\"^\\d{5}$\",\n",
        "    \"bolivia\": r\"^\\d{5}$\",\n",
        "    \"angola\": r\"^\\d{5}$\",\n",
        "    \"malawi\": r\"^\\d{5}$\",\n",
        "    \"honduras\": r\"^\\d{5}$\",\n",
        "    \"belize\": r\"^\\d{5}$\",\n",
        "    \"new zealand\": r\"^\\d{4}$\",\n",
        "    \"pakistan\": r\"^\\d{5}$\",\n",
        "    \"vietnam\": r\"^\\d{5}$\",\n",
        "    \"bhutan\": r\"^\\d{5}$\",\n",
        "    \"australia\": r\"^\\d{4}$\",\n",
        "    \"jamaica\": r\"^\\d{5}$\",\n",
        "    \"turkey\": r\"^\\d{5}$\",\n",
        "    \"åland\": r\"^\\d{5}$\",\n",
        "    \"nicaragua\": r\"^\\d{5}$\",\n",
        "    \"finland\": r\"^\\d{5}$\",\n",
        "    \"ethiopia\": r\"^\\d{5}$\",\n",
        "    \"madagascar\": r\"^\\d{5}$\",\n",
        "    \"laos\": r\"^\\d{5}$\",\n",
        "    \"lebanon\": r\"^\\d{5}$\",\n",
        "    \"maldives\": r\"^\\d{5}$\",\n",
        "    \"france\": r\"^\\d{5}$\",\n",
        "    \"saint vincent and the grenadines\": r\"^\\d{5}$\",\n",
        "    \"french guiana\": r\"^\\d{5}$\",\n",
        "    \"reunion\": r\"^\\d{5}$\",\n",
        "    \"lesotho\": r\"^\\d{5}$\",\n",
        "    \"american samoa\": r\"^\\d{5}$\",\n",
        "    \"kenya\": r\"^\\d{5}$\",\n",
        "    \"south sudan\": r\"^\\d{5}$\",\n",
        "    \"guinea-bissau\": r\"^\\d{5}$\",\n",
        "    \"isle of man\": r\"^\\d{5}$\",\n",
        "    \"greenland\": r\"^\\d{5}$\",\n",
        "    \"new caledonia\": r\"^\\d{5}$\",\n",
        "    \"jersey\": r\"^\\d{5}$\",\n",
        "    \"hashemite kingdom of jordan\": r\"^\\d{5}$\",\n",
        "    \"bermuda\": r\"^\\d{5}$\",\n",
        "    \"iran\": r\"^\\d{5}$\",\n",
        "    \"st kitts and nevis\": r\"^\\d{5}$\"\n",
        "}"
      ]
    },
    {
      "cell_type": "code",
      "execution_count": null,
      "metadata": {
        "id": "SWqNg9Q6KnbN"
      },
      "outputs": [],
      "source": [
        "from pyspark.sql.functions import lower, col\n",
        "\n",
        "def filter_by_zip_code(df, zip_code_patterns):\n",
        "    \"\"\"\n",
        "    Filters the given DataFrame based on country-specific ZIP code patterns.\n",
        "\n",
        "    Parameters:\n",
        "    df (DataFrame): The input DataFrame containing 'country_name' and 'zip_code' columns.\n",
        "    zip_code_patterns (dict): Dictionary mapping country names to their respective ZIP code regex patterns.\n",
        "\n",
        "    Returns:\n",
        "    DataFrame: A filtered DataFrame containing only rows with valid ZIP codes.\n",
        "    \"\"\"\n",
        "    zip_conditions = None\n",
        "\n",
        "    for country, pattern in zip_code_patterns.items():\n",
        "        cond = (lower(col(\"country_name\")) == country) & col(\"zip_code\").rlike(pattern)\n",
        "\n",
        "        if zip_conditions is None:\n",
        "            zip_conditions = cond\n",
        "        else:\n",
        "            zip_conditions = zip_conditions | cond\n",
        "\n",
        "    if zip_conditions is not None:\n",
        "        return df.filter(zip_conditions)\n",
        "    return df  # Return original DataFrame if no conditions were created"
      ]
    },
    {
      "cell_type": "code",
      "source": [
        "# Usage\n",
        "df_filtered_zip = filter_by_zip_code(df_filtered_prefix, zip_code_patterns)"
      ],
      "metadata": {
        "id": "dNtMYSdTJm0N"
      },
      "execution_count": null,
      "outputs": []
    },
    {
      "cell_type": "code",
      "source": [
        "# Display the results\n",
        "df_filtered_zip.show(100, truncate=False)"
      ],
      "metadata": {
        "id": "jiV9muASJo79"
      },
      "execution_count": null,
      "outputs": []
    },
    {
      "cell_type": "code",
      "execution_count": null,
      "metadata": {
        "id": "WAcu_PCRLZAy"
      },
      "outputs": [],
      "source": [
        "df_filtered_zip.count()"
      ]
    },
    {
      "cell_type": "code",
      "execution_count": null,
      "metadata": {
        "id": "jorwLR4GLtwh"
      },
      "outputs": [],
      "source": [
        "from pyspark.sql.functions import col\n",
        "\n",
        "# Update the phone_country_code column to have the same value as country_code\n",
        "df_filtered_zip = df_filtered_zip.withColumn(\"phone_country_code\", col(\"country_code\"))\n",
        "\n",
        "# Display the updated DataFrame\n",
        "df_filtered_zip.show(500, truncate=False)"
      ]
    },
    {
      "cell_type": "code",
      "execution_count": null,
      "metadata": {
        "id": "3kIkjiSkMYhk"
      },
      "outputs": [],
      "source": [
        "df_final_google=df_filtered_zip.fillna('0')"
      ]
    },
    {
      "cell_type": "code",
      "execution_count": null,
      "metadata": {
        "id": "0XggP9gdMfRo"
      },
      "outputs": [],
      "source": [
        "df_final_google.show(10000, truncate=False)"
      ]
    },
    {
      "cell_type": "code",
      "execution_count": null,
      "metadata": {
        "id": "XQTEo3--Msa3"
      },
      "outputs": [],
      "source": [
        "from pyspark.sql.functions import regexp_replace\n",
        "\n",
        "df_final_google = df_final_google.withColumn(\n",
        "    \"raw_address\",\n",
        "    regexp_replace(\"raw_address\", r\"\\d+\\+?\\s*years in business\\s*·?\\s*\", \"\")\n",
        ")\n"
      ]
    },
    {
      "cell_type": "code",
      "execution_count": null,
      "metadata": {
        "id": "IDY9XMugMyW0"
      },
      "outputs": [],
      "source": [
        "df_final_google.show(10000, truncate=False)"
      ]
    },
    {
      "cell_type": "code",
      "source": [
        "from pyspark.sql.functions import regexp_replace\n",
        "\n",
        "df_final_google_cleaned = df_final_google.withColumn(\n",
        "    \"raw_address\",\n",
        "    regexp_replace(\"raw_address\", r\" · .*\", \"\")\n",
        ")\n"
      ],
      "metadata": {
        "id": "kvtU8bQAT6Er"
      },
      "execution_count": null,
      "outputs": []
    },
    {
      "cell_type": "code",
      "source": [
        "df_final_google_cleaned.show(10000, truncate=False)"
      ],
      "metadata": {
        "id": "-RZeFeE3UZgp"
      },
      "execution_count": null,
      "outputs": []
    },
    {
      "cell_type": "markdown",
      "source": [
        "**Load facebook dataset**"
      ],
      "metadata": {
        "id": "wU5mxAfgM0S4"
      }
    },
    {
      "cell_type": "code",
      "execution_count": null,
      "metadata": {
        "id": "gTDyeS77OQVr"
      },
      "outputs": [],
      "source": [
        "spark = SparkSession.builder.getOrCreate()\n",
        "file_path_facebook=\"/content/drive/MyDrive/datasets_interview/facebook_dataset.csv\"\n",
        "df_facebook=spark.read.csv(file_path_facebook, header=True, inferSchema=True)"
      ]
    },
    {
      "cell_type": "code",
      "execution_count": null,
      "metadata": {
        "id": "wbifJGCWOX6l"
      },
      "outputs": [],
      "source": [
        "df_facebook.show(500)"
      ]
    },
    {
      "cell_type": "code",
      "execution_count": null,
      "metadata": {
        "id": "Kg0g8S35Rrwz"
      },
      "outputs": [],
      "source": [
        "df_facebook.printSchema()"
      ]
    },
    {
      "cell_type": "markdown",
      "source": [
        "**Clean facebook dataset**"
      ],
      "metadata": {
        "id": "dEFyZlieM7P4"
      }
    },
    {
      "cell_type": "code",
      "execution_count": null,
      "metadata": {
        "id": "DOWzCtl9Mpkq"
      },
      "outputs": [],
      "source": [
        "# Update the DataFrame with the new country_code column\n",
        "df_facebook = add_country_code(df_facebook, country_code_mapping)\n",
        "\n",
        "# Show updated DataFrame\n",
        "df_facebook.show(1000)"
      ]
    },
    {
      "cell_type": "code",
      "execution_count": null,
      "metadata": {
        "id": "82lkaenTLSRr"
      },
      "outputs": [],
      "source": [
        "# Select distinct country_name and country_code pairs\n",
        "distinct_countries_facebook = df_facebook.select(\"country_name\", \"country_code\").distinct()\n",
        "n2=distinct_countries.count()\n",
        "print(n2)"
      ]
    },
    {
      "cell_type": "code",
      "execution_count": null,
      "metadata": {
        "id": "ykxdEj6gLVBw"
      },
      "outputs": [],
      "source": [
        "# Show the distinct pairs of country names and country codes\n",
        "distinct_countries_facebook.show(n2,truncate=False)"
      ]
    },
    {
      "cell_type": "code",
      "execution_count": null,
      "metadata": {
        "id": "YydcKtSpNo8e"
      },
      "outputs": [],
      "source": [
        "from pyspark.sql.functions import col\n",
        "\n",
        "# Filter out rows where the 'address' column is null\n",
        "df_facebook_Filter_out = df_facebook.filter(col(\"address\").isNotNull())\n",
        "\n",
        "# Show the cleaned DataFrame\n",
        "df_facebook_Filter_out.count()"
      ]
    },
    {
      "cell_type": "code",
      "execution_count": null,
      "metadata": {
        "id": "N1Vh78w-N2Xn"
      },
      "outputs": [],
      "source": [
        "df_facebook_Filter_out.show(1000)"
      ]
    },
    {
      "cell_type": "code",
      "execution_count": null,
      "metadata": {
        "id": "PZ2LgZIwOQxf"
      },
      "outputs": [],
      "source": [
        "# Filter out rows with null values in 'country_code', 'city', and 'country_name'\n",
        "df_facebook_cleaned = df_facebook_Filter_out.filter(\n",
        "    col(\"country_code\").isNotNull() & col(\"city\").isNotNull() & col(\"country_name\").isNotNull()\n",
        ")\n",
        "\n",
        "# Show the cleaned DataFrame\n",
        "df_facebook_cleaned.show(1000)"
      ]
    },
    {
      "cell_type": "code",
      "execution_count": null,
      "metadata": {
        "id": "BQniTlP7OpJI"
      },
      "outputs": [],
      "source": [
        "from pyspark.sql.functions import lower, col\n",
        "\n",
        "\n",
        "# Filter the DataFrame so that only rows with valid ZIP codes remain.\n",
        "df_facebook_cleaned_zip = filter_by_zip_code(df_facebook_cleaned, zip_code_patterns)\n",
        "\n",
        "#display the results.\n",
        "df_facebook_cleaned_zip.show(100, truncate=False)"
      ]
    },
    {
      "cell_type": "code",
      "execution_count": null,
      "metadata": {
        "id": "-ap0CHKQO6t4"
      },
      "outputs": [],
      "source": [
        "from pyspark.sql.functions import lower, col, regexp_replace\n",
        "\n",
        "# Apply the combined condition to filter the DataFrame\n",
        "df_facebook_cleaned_prefix = filter_by_prefix(df_facebook_cleaned_zip, prefix_mapping)\n",
        "\n",
        "# Show all rows from the filtered DataFrame\n",
        "df_facebook_cleaned_prefix.show(100, truncate=False)"
      ]
    },
    {
      "cell_type": "code",
      "execution_count": null,
      "metadata": {
        "id": "gGO6MYNMPx_z"
      },
      "outputs": [],
      "source": [
        "# Update the phone_country_code column to have the same value as country_code\n",
        "df_facebook_cleaned_prefix = df_facebook_cleaned_prefix.withColumn(\"phone_country_code\", col(\"country_code\"))\n",
        "\n",
        "# Display the updated DataFrame\n",
        "df_facebook_cleaned_prefix.show(500, truncate=False)"
      ]
    },
    {
      "cell_type": "code",
      "execution_count": null,
      "metadata": {
        "id": "is8CR2H1QYDc"
      },
      "outputs": [],
      "source": [
        "from pyspark.sql.functions import when, col, regexp_extract\n",
        "\n",
        "# Assuming df_final_google is your DataFrame\n",
        "df_facebook_cleaned_region_code = df_facebook_cleaned_prefix.withColumn(\n",
        "    \"region_code\",\n",
        "    when(\n",
        "        col(\"region_code\").rlike(r\"\\d+\"), \"0\"\n",
        "    ).otherwise(col(\"region_code\"))\n",
        ")\n",
        "df_facebook_cleaned_region_code.show(500)"
      ]
    },
    {
      "cell_type": "code",
      "execution_count": null,
      "metadata": {
        "id": "mhg4pwBvQ-Bh"
      },
      "outputs": [],
      "source": [
        "df_final_facebook = df_facebook_cleaned_region_code.fillna('0')\n",
        "df_final_facebook.show(10000)"
      ]
    },
    {
      "cell_type": "code",
      "execution_count": null,
      "metadata": {
        "id": "JhZCCD0HRE2X"
      },
      "outputs": [],
      "source": [
        "df_final_facebook.count()"
      ]
    },
    {
      "cell_type": "markdown",
      "source": [
        "**Load website dataset**"
      ],
      "metadata": {
        "id": "JZ7HNBlCNFuj"
      }
    },
    {
      "cell_type": "code",
      "execution_count": null,
      "metadata": {
        "id": "j3YVo86ISAg-"
      },
      "outputs": [],
      "source": [
        "file_path_website=\"/content/drive/MyDrive/datasets_interview/website_dataset.csv\"\n",
        "df_website=spark.read.csv(file_path_google, header=True, inferSchema=True)"
      ]
    },
    {
      "cell_type": "code",
      "execution_count": null,
      "metadata": {
        "id": "pq_XNAAzSFJB"
      },
      "outputs": [],
      "source": [
        "df_website.count()"
      ]
    },
    {
      "cell_type": "code",
      "execution_count": null,
      "metadata": {
        "id": "zcd6uURCSTJ6"
      },
      "outputs": [],
      "source": [
        "df_website.printSchema()"
      ]
    },
    {
      "cell_type": "code",
      "execution_count": null,
      "metadata": {
        "id": "fhZ7qng0SGWm"
      },
      "outputs": [],
      "source": [
        "df_website.show(1000)"
      ]
    },
    {
      "cell_type": "markdown",
      "source": [
        "**Clean website Dataset**"
      ],
      "metadata": {
        "id": "rtUeKNEsNN1i"
      }
    },
    {
      "cell_type": "code",
      "execution_count": null,
      "metadata": {
        "id": "NMToEa7cSmpR"
      },
      "outputs": [],
      "source": [
        "from pyspark.sql.functions import col\n",
        "\n",
        "# Filter out rows where the 'address' column is null\n",
        "df_website_Filter_out = df_website.filter(col(\"address\").isNotNull())\n",
        "\n",
        "# Show the cleaned DataFrame\n",
        "df_website_Filter_out.count()"
      ]
    },
    {
      "cell_type": "code",
      "execution_count": null,
      "metadata": {
        "id": "E5kNKUSMSwGS"
      },
      "outputs": [],
      "source": [
        "df_website_Filter_out.show(1000)"
      ]
    },
    {
      "cell_type": "code",
      "execution_count": null,
      "metadata": {
        "id": "ZrIVnVQYxQGC"
      },
      "outputs": [],
      "source": [
        "# Update the DataFrame with the new country_code column\n",
        "df_website_Filter_out = add_country_code(df_website_Filter_out, country_code_mapping)\n",
        "\n",
        "# Show updated DataFrame\n",
        "df_website_Filter_out.show(1000)"
      ]
    },
    {
      "cell_type": "code",
      "execution_count": null,
      "metadata": {
        "id": "ixhED8CaxT_s"
      },
      "outputs": [],
      "source": [
        "df_website_Filter_out.count()"
      ]
    },
    {
      "cell_type": "code",
      "execution_count": null,
      "metadata": {
        "id": "XqbEA3eGyr7e"
      },
      "outputs": [],
      "source": [
        "# Apply the combined condition to filter the DataFrame\n",
        "df_website_Filter_out_prefix = filter_by_prefix(df_website_Filter_out, prefix_mapping)\n",
        "\n",
        "# Show all rows from the filtered DataFrame\n",
        "filtered_count = df_website_Filter_out_prefix.count()\n",
        "print(filtered_count)"
      ]
    },
    {
      "cell_type": "code",
      "execution_count": null,
      "metadata": {
        "id": "ILH-mqIyzGss"
      },
      "outputs": [],
      "source": [
        "df_website_Filter_out_prefix.show(1000, truncate=False)"
      ]
    },
    {
      "cell_type": "code",
      "execution_count": null,
      "metadata": {
        "id": "HVDNKfu71zn9"
      },
      "outputs": [],
      "source": [
        "# Update the phone_country_code column to have the same value as country_code\n",
        "df_website_Filter_out_prefix = df_website_Filter_out_prefix.withColumn(\"phone_country_code\", col(\"country_code\"))\n",
        "\n",
        "# Display the updated DataFrame\n",
        "df_website_Filter_out_prefix.show(1000, truncate=False)"
      ]
    },
    {
      "cell_type": "code",
      "execution_count": null,
      "metadata": {
        "id": "OLKzUvQO24C9"
      },
      "outputs": [],
      "source": [
        "#delete from raw_address values that contains numbers+ years in business\n",
        "\n",
        "from pyspark.sql.functions import regexp_replace\n",
        "\n",
        "df_website_Filter_out_prefix = df_website_Filter_out_prefix.withColumn(\n",
        "    \"raw_address\",\n",
        "    regexp_replace(\"raw_address\", r\"\\d+\\+?\\s*years in business\\s*·?\\s*\", \"\")\n",
        ")\n"
      ]
    },
    {
      "cell_type": "code",
      "execution_count": null,
      "metadata": {
        "id": "usSwU_c43Opm"
      },
      "outputs": [],
      "source": [
        "df_website_Filter_out_prefix.show(1000, truncate=False)"
      ]
    },
    {
      "cell_type": "code",
      "execution_count": null,
      "metadata": {
        "id": "X8siSECt8CCR"
      },
      "outputs": [],
      "source": [
        "print(df_website_Filter_out_prefix.count())"
      ]
    },
    {
      "cell_type": "code",
      "execution_count": null,
      "metadata": {
        "id": "l_y9DY3L8oqH"
      },
      "outputs": [],
      "source": [
        "# Filter the DataFrame so that only rows with valid ZIP codes remain.\n",
        "df_website_Filter_out_zip = filter_by_zip_code(df_website_Filter_out_prefix, zip_code_patterns)\n",
        "\n",
        "#display the results.\n",
        "df_website_Filter_out_zip.show(1000, truncate=False)"
      ]
    },
    {
      "cell_type": "code",
      "execution_count": null,
      "metadata": {
        "id": "nDa0BjGgDRX2"
      },
      "outputs": [],
      "source": [
        "df_final_website = df_website_Filter_out_zip.fillna('0')\n",
        "df_final_website.show(10000, truncate=False)"
      ]
    },
    {
      "cell_type": "code",
      "source": [
        "from pyspark.sql.functions import regexp_replace\n",
        "\n",
        "df_final_website_cleaned = df_final_website.withColumn(\n",
        "    \"raw_address\",\n",
        "    regexp_replace(\"raw_address\", r\" · .*\", \"\")\n",
        ")"
      ],
      "metadata": {
        "id": "VJdfQ5-tXsXT"
      },
      "execution_count": null,
      "outputs": []
    },
    {
      "cell_type": "code",
      "source": [
        "df_final_website_cleaned.show(10000, truncate=False)"
      ],
      "metadata": {
        "id": "lSkcLxZmXwvj"
      },
      "execution_count": null,
      "outputs": []
    },
    {
      "cell_type": "markdown",
      "source": [
        "**Create the final dataset**"
      ],
      "metadata": {
        "id": "89Ue-tpVS1S6"
      }
    },
    {
      "cell_type": "code",
      "source": [
        "# Rename columns in Google dataset\n",
        "df_final_google_cleaned = df_final_google_cleaned \\\n",
        "    .withColumnRenamed(\"address\", \"address_google\") \\\n",
        "    .withColumnRenamed(\"category\", \"category_google\") \\\n",
        "    .withColumnRenamed(\"phone\", \"phone_google\") \\\n",
        "    .withColumnRenamed(\"raw_address\", \"raw_address_google\")\n",
        "\n",
        "# Rename columns in Facebook dataset\n",
        "df_final_facebook = df_final_facebook \\\n",
        "    .withColumnRenamed(\"address\", \"address_facebook\") \\\n",
        "    .withColumnRenamed(\"categories\", \"category_facebook\") \\\n",
        "    .withColumnRenamed(\"phone\", \"phone_facebook\") \\\n",
        "    .withColumnRenamed(\"email\", \"email_facebook\") \\\n",
        "    .withColumnRenamed(\"link\", \"link_facebook\")\n",
        "\n",
        "# Rename columns in Website dataset\n",
        "df_final_website_cleaned = df_final_website_cleaned \\\n",
        "    .withColumnRenamed(\"address\", \"address_website\") \\\n",
        "    .withColumnRenamed(\"category\", \"category_website\") \\\n",
        "    .withColumnRenamed(\"phone\", \"phone_website\") \\\n",
        "    .withColumnRenamed(\"raw_address\", \"raw_address_website\")\\\n",
        "    .withColumnRenamed(\"link\", \"link_website\")\n"
      ],
      "metadata": {
        "id": "zy-bNxVAhN1P"
      },
      "execution_count": null,
      "outputs": []
    },
    {
      "cell_type": "code",
      "source": [
        "from pyspark.sql import SparkSession\n",
        "from pyspark.sql.functions import coalesce\n",
        "\n",
        "# Initialize Spark Session\n",
        "spark = SparkSession.builder.appName(\"DataJoin\").getOrCreate()\n",
        "\n",
        "# Perform the Join (Full Outer Join to capture all data)\n",
        "df_joined = df_final_google_cleaned.join(df_final_facebook, \"domain\", \"full_outer\") \\\n",
        "                     .join(df_final_website_cleaned, \"domain\", \"full_outer\")\n",
        "\n",
        "# Show result\n",
        "df_joined.show(100)"
      ],
      "metadata": {
        "id": "cbjX9lyMcyzJ"
      },
      "execution_count": null,
      "outputs": []
    },
    {
      "cell_type": "code",
      "source": [
        "df_cleaned = df_joined.withColumn(\"final_address\", coalesce(\"address_google\", \"address_facebook\", \"address_website\")) \\\n",
        "                      .withColumn(\"final_category\", coalesce(\"category_google\", \"category_facebook\", \"category_website\")) \\\n",
        "                      .withColumn(\"final_phone\", coalesce(\"phone_google\", \"phone_facebook\", \"phone_website\"))"
      ],
      "metadata": {
        "id": "tIGR2V8CfXZU"
      },
      "execution_count": null,
      "outputs": []
    },
    {
      "cell_type": "code",
      "source": [
        "df_final = df_cleaned.select(\"domain\", \"final_address\", \"final_category\", \"final_phone\", \"email_facebook\", \"link_facebook\")\n",
        "df_final.show(10000)"
      ],
      "metadata": {
        "id": "dh_LhkZKdFrT"
      },
      "execution_count": null,
      "outputs": []
    },
    {
      "cell_type": "code",
      "source": [
        "df_final.count()"
      ],
      "metadata": {
        "id": "y2gn6dyxQ0gU"
      },
      "execution_count": null,
      "outputs": []
    },
    {
      "cell_type": "code",
      "source": [
        "# Assuming df_final is your final DataFrame\n",
        "df_final = df_final.dropDuplicates()\n",
        "df_final.show(10000)"
      ],
      "metadata": {
        "id": "NtCGZck6layM"
      },
      "execution_count": null,
      "outputs": []
    },
    {
      "cell_type": "code",
      "source": [
        "df_final.count()"
      ],
      "metadata": {
        "id": "SpHzG7yIReGf"
      },
      "execution_count": null,
      "outputs": []
    },
    {
      "cell_type": "code",
      "source": [
        "# Mount Google Drive\n",
        "drive.mount('/content/drive')\n",
        "\n",
        "# Define the output path in your Google Drive\n",
        "output_path = \"/content/drive/MyDrive/final_dataset\"\n",
        "\n",
        "# Save the DataFrame as a CSV file\n",
        "df_final.coalesce(1).write.csv(output_path, header=True, mode=\"overwrite\")"
      ],
      "metadata": {
        "id": "NytwKMETTNeK"
      },
      "execution_count": null,
      "outputs": []
    }
  ],
  "metadata": {
    "colab": {
      "provenance": []
    },
    "kernelspec": {
      "display_name": "Python 3",
      "name": "python3"
    },
    "language_info": {
      "name": "python"
    }
  },
  "nbformat": 4,
  "nbformat_minor": 0
}